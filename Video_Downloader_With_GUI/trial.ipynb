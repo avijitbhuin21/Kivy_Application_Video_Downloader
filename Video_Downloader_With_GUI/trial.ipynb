{
 "cells": [
  {
   "cell_type": "code",
   "execution_count": 5,
   "id": "f3d25f41",
   "metadata": {},
   "outputs": [
    {
     "name": "stdout",
     "output_type": "stream",
     "text": [
      "Collecting playwright\n",
      "  Downloading playwright-1.37.0-py3-none-win_amd64.whl (29.4 MB)\n",
      "     ---------------------------------------- 29.4/29.4 MB 3.6 MB/s eta 0:00:00\n",
      "Collecting greenlet==2.0.2\n",
      "  Downloading greenlet-2.0.2-cp310-cp310-win_amd64.whl (192 kB)\n",
      "     -------------------------------------- 192.2/192.2 kB 5.9 MB/s eta 0:00:00\n",
      "Collecting pyee==9.0.4\n",
      "  Using cached pyee-9.0.4-py2.py3-none-any.whl (14 kB)\n",
      "Requirement already satisfied: typing-extensions in d:\\anaconda\\lib\\site-packages (from pyee==9.0.4->playwright) (4.4.0)\n",
      "Installing collected packages: pyee, greenlet, playwright\n",
      "  Attempting uninstall: pyee\n",
      "    Found existing installation: pyee 8.2.2\n",
      "    Uninstalling pyee-8.2.2:\n",
      "      Successfully uninstalled pyee-8.2.2\n",
      "  Attempting uninstall: greenlet\n",
      "    Found existing installation: greenlet 2.0.1\n",
      "    Uninstalling greenlet-2.0.1:\n",
      "      Successfully uninstalled greenlet-2.0.1\n",
      "Successfully installed greenlet-2.0.2 playwright-1.37.0 pyee-9.0.4\n",
      "Note: you may need to restart the kernel to use updated packages.\n"
     ]
    },
    {
     "name": "stderr",
     "output_type": "stream",
     "text": [
      "ERROR: pip's dependency resolver does not currently take into account all the packages that are installed. This behaviour is the source of the following dependency conflicts.\n",
      "pyppeteer 1.0.2 requires pyee<9.0.0,>=8.1.0, but you have pyee 9.0.4 which is incompatible.\n"
     ]
    }
   ],
   "source": [
    "pip install playwright"
   ]
  },
  {
   "cell_type": "code",
   "execution_count": 6,
   "id": "deff90cd",
   "metadata": {},
   "outputs": [
    {
     "name": "stdout",
     "output_type": "stream",
     "text": [
      "Requirement already satisfied: pyee==9.0.4 in d:\\anaconda\\lib\\site-packages (9.0.4)\n",
      "Requirement already satisfied: typing-extensions in d:\\anaconda\\lib\\site-packages (from pyee==9.0.4) (4.4.0)\n",
      "Note: you may need to restart the kernel to use updated packages.\n"
     ]
    }
   ],
   "source": [
    "pip install pyee==9.0.4"
   ]
  },
  {
   "cell_type": "code",
   "execution_count": 7,
   "id": "9e41abf4",
   "metadata": {},
   "outputs": [
    {
     "ename": "SyntaxError",
     "evalue": "invalid syntax (1470437723.py, line 1)",
     "output_type": "error",
     "traceback": [
      "\u001b[1;36m  Cell \u001b[1;32mIn[7], line 1\u001b[1;36m\u001b[0m\n\u001b[1;33m    playwright install chromium\u001b[0m\n\u001b[1;37m               ^\u001b[0m\n\u001b[1;31mSyntaxError\u001b[0m\u001b[1;31m:\u001b[0m invalid syntax\n"
     ]
    }
   ],
   "source": [
    "playwright install chromium"
   ]
  },
  {
   "cell_type": "code",
   "execution_count": null,
   "id": "23fdcbd7",
   "metadata": {},
   "outputs": [],
   "source": []
  }
 ],
 "metadata": {
  "kernelspec": {
   "display_name": "Python 3 (ipykernel)",
   "language": "python",
   "name": "python3"
  },
  "language_info": {
   "codemirror_mode": {
    "name": "ipython",
    "version": 3
   },
   "file_extension": ".py",
   "mimetype": "text/x-python",
   "name": "python",
   "nbconvert_exporter": "python",
   "pygments_lexer": "ipython3",
   "version": "3.10.9"
  }
 },
 "nbformat": 4,
 "nbformat_minor": 5
}
